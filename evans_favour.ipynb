{
  "cells": [
    {
      "cell_type": "markdown",
      "metadata": {
        "id": "view-in-github",
        "colab_type": "text"
      },
      "source": [
        "<a href=\"https://colab.research.google.com/github/Evans-Junior/-bits/blob/main/evans_favour.ipynb\" target=\"_parent\"><img src=\"https://colab.research.google.com/assets/colab-badge.svg\" alt=\"Open In Colab\"/></a>"
      ]
    },
    {
      "cell_type": "code",
      "execution_count": null,
      "metadata": {
        "id": "IOWDFpGDyyaK"
      },
      "outputs": [],
      "source": [
        "# Our importations\n",
        "import pandas as pd,numpy as np\n",
        "from sklearn.impute import SimpleImputer\n",
        "from sklearn.preprocessing import StandardScaler\n",
        "from google.colab import drive\n",
        "import matplotlib.pyplot as plt\n",
        "import seaborn as sns\n",
        "import os"
      ]
    },
    {
      "cell_type": "code",
      "execution_count": null,
      "metadata": {
        "colab": {
          "base_uri": "https://localhost:8080/"
        },
        "id": "B-Q-X6-b0Uun",
        "outputId": "83cf76f3-6e8a-49b7-e8c7-93548ce4e096"
      },
      "outputs": [
        {
          "output_type": "stream",
          "name": "stdout",
          "text": [
            "Mounted at /content/drive\n"
          ]
        }
      ],
      "source": [
        "drive.mount('/content/drive')"
      ]
    },
    {
      "cell_type": "markdown",
      "source": [
        "**Working on my 2021 Dataset**\n",
        "\n",
        "*Data Preprocessing*\n"
      ],
      "metadata": {
        "id": "1ifth9q5IuZ2"
      }
    },
    {
      "cell_type": "code",
      "execution_count": null,
      "metadata": {
        "colab": {
          "base_uri": "https://localhost:8080/"
        },
        "id": "O0NBBVT92ofk",
        "outputId": "8abd0da6-0e4c-4659-8c9b-96a61abd7917"
      },
      "outputs": [
        {
          "output_type": "execute_result",
          "data": {
            "text/plain": [
              "(18944, 110)"
            ]
          },
          "metadata": {},
          "execution_count": 4
        }
      ],
      "source": [
        "# Training Dataset\n",
        "df=pd.read_csv(\"/content/drive/My Drive/AI/players_21.csv\")\n",
        "\n",
        "df.head()\n",
        "df.shape\n"
      ]
    },
    {
      "cell_type": "markdown",
      "source": [
        "*Find all the relevant data to the overall*"
      ],
      "metadata": {
        "id": "xaVjmQUH5cdK"
      }
    },
    {
      "cell_type": "code",
      "execution_count": null,
      "metadata": {
        "colab": {
          "base_uri": "https://localhost:8080/"
        },
        "id": "8HslNfrGa-aN",
        "outputId": "fcd71c74-691f-46cf-a709-bbbfc0c9aab4"
      },
      "outputs": [
        {
          "output_type": "stream",
          "name": "stderr",
          "text": [
            "<ipython-input-5-45c46e38d190>:2: FutureWarning: The default value of numeric_only in DataFrame.corr is deprecated. In a future version, it will default to False. Select only valid columns or specify the value of numeric_only to silence this warning.\n",
            "  correlation_matrix = df.corr()['overall']\n"
          ]
        },
        {
          "output_type": "execute_result",
          "data": {
            "text/plain": [
              "overall                1.000000\n",
              "potential              0.636366\n",
              "value_eur              0.558493\n",
              "wage_eur               0.592452\n",
              "release_clause_eur     0.626277\n",
              "passing                0.711521\n",
              "dribbling              0.641097\n",
              "movement_reactions     0.867234\n",
              "power_shot_power       0.558372\n",
              "mentality_composure    0.705252\n",
              "Name: overall, dtype: float64"
            ]
          },
          "metadata": {},
          "execution_count": 5
        }
      ],
      "source": [
        "# Calculate the correlation matrix for overall\n",
        "correlation_matrix = df.corr()['overall']\n",
        "\n",
        "# Filter the correlations that meet your criteria (greater than 0.55 or less than -0.55) when compared to the overall column\n",
        "# Reason for this decision\n",
        "# # We decided to use a correlation range between  -0.55 and 0.55 because  indicates a moderate linear relationship.\n",
        "# # This means that as one variable increases or decreases, the other tends to move in the same general direction, but not necessarily in a perfectly linear way. We believe that a correlation of -0.55 to 0.55 may not be extremely strong.\n",
        "# # It still provides valuable information for predictive modeling. It suggests that there is some degree of association between the variables, and this association can be useful for making predictions. Also to prevent multicollinearity.\n",
        "# # Moderate correlations are less likely to cause multicollinearity issues while still offering predictive power.\n",
        "\n",
        "high_correlations = correlation_matrix[(correlation_matrix > 0.55) | (correlation_matrix < -0.55)]\n",
        "high_correlations"
      ]
    },
    {
      "cell_type": "markdown",
      "source": [
        "*Dropping irrelevant data*"
      ],
      "metadata": {
        "id": "FU2Iugjy7Wl2"
      }
    },
    {
      "cell_type": "code",
      "execution_count": null,
      "metadata": {
        "colab": {
          "base_uri": "https://localhost:8080/"
        },
        "id": "j_lsGlD3DiYG",
        "outputId": "3621e3af-8b8e-4486-879d-aba45c41d370"
      },
      "outputs": [
        {
          "output_type": "stream",
          "name": "stderr",
          "text": [
            "<ipython-input-6-882e1827b0d0>:5: SettingWithCopyWarning: \n",
            "A value is trying to be set on a copy of a slice from a DataFrame\n",
            "\n",
            "See the caveats in the documentation: https://pandas.pydata.org/pandas-docs/stable/user_guide/indexing.html#returning-a-view-versus-a-copy\n",
            "  relevantDataSet.drop(['release_clause_eur'], axis=1, inplace=True)\n"
          ]
        },
        {
          "output_type": "execute_result",
          "data": {
            "text/plain": [
              "overall                   0\n",
              "potential                 0\n",
              "value_eur               237\n",
              "wage_eur                225\n",
              "passing                2083\n",
              "dribbling              2083\n",
              "movement_reactions        0\n",
              "power_shot_power          0\n",
              "mentality_composure       0\n",
              "dtype: int64"
            ]
          },
          "metadata": {},
          "execution_count": 6
        }
      ],
      "source": [
        "# Creating the important dataset neeted for the prediciton\n",
        "relevantDataSet=df[high_correlations.index]\n",
        "\n",
        "# 'release_clause_eur': is the money a club interest in a player must pay before they can buy a play from his current club. We decided to remove this column because we though this does not directly affect the players overall performance in his career\n",
        "relevantDataSet.drop(['release_clause_eur'], axis=1, inplace=True)\n",
        "relevantDataSet.isnull().sum()\n"
      ]
    },
    {
      "cell_type": "markdown",
      "source": [
        "*Our Graphical representations*"
      ],
      "metadata": {
        "id": "0wpRggi08J9d"
      }
    },
    {
      "cell_type": "code",
      "execution_count": null,
      "metadata": {
        "colab": {
          "base_uri": "https://localhost:8080/",
          "height": 472
        },
        "id": "iUtRfCtzFmTU",
        "outputId": "69cb187d-534b-4f8c-9e6e-382dd5a1dfaf"
      },
      "outputs": [
        {
          "output_type": "display_data",
          "data": {
            "text/plain": [
              "<Figure size 640x480 with 1 Axes>"
            ],
            "image/png": "[encoded data removed]"
          },
          "metadata": {}
        }
      ],
      "source": [
        "# Plotting (to be modified)\n",
        "\n",
        "x = relevantDataSet['potential']\n",
        "y = relevantDataSet['overall']\n",
        "#LINEPLOT\n",
        "import matplotlib.pyplot as plt\n",
        "\n",
        "x = relevantDataSet['potential']\n",
        "y = relevantDataSet['overall']\n",
        "\n",
        "plt.plot(x, y, marker='o', linestyle='-', color='g', label='Data')\n",
        "\n",
        "plt.xlabel('potential')\n",
        "plt.ylabel('Overall')\n",
        "plt.title('Line Plot')\n",
        "plt.legend()\n",
        "plt.grid(True)\n",
        "\n",
        "plt.show()"
      ]
    },
    {
      "cell_type": "code",
      "source": [
        "#HEATMAP\n",
        "cormat = relevantDataSet.corr()\n",
        "round(cormat,2)\n",
        "plt.figure(figsize=(5,5))\n",
        "sns.heatmap(cormat);\n",
        "\n",
        "\n",
        "# Forwards: Forwards are most likely to have the skill moves \"dribbling\" and \"attacking finishing\". This makes sense, as forwards are responsible for scoring goals, and these skill moves help them to get past defenders and create scoring opportunities.\n",
        "# Midfielders: Midfielders are most likely to have the skill moves \"dribbling\" and \"passing\". This makes sense, as midfielders are responsible for connecting the defense and attack, and these skill moves help them to move the ball past defenders and create scoring opportunities for their teammates.\n",
        "# Defenders: Defenders are most likely to have the skill moves \"defending standing tackle\" and \"defending sliding tackle\". This makes sense, as defenders are responsible for preventing the opposition from scoring goals, and these skill moves help them to win the ball back from attackers.\n",
        "# It is also worth noting that the skill move \"dribbling\" is the most common skill move among players in all positions. This suggests that dribbling is a fundamental skill for all soccer players to have, regardless of their position.\n",
        "\n",
        "# Overall, the heatmap provides a useful overview of the distribution of skill moves among soccer players in different positions. It is used by coaches and players to identify areas where they need to improve their skill sets."
      ],
      "metadata": {
        "colab": {
          "base_uri": "https://localhost:8080/",
          "height": 587
        },
        "id": "Mgj7U8XsDDZ2",
        "outputId": "6dca4215-baae-4d47-9f0a-3f02b45e2d60"
      },
      "execution_count": null,
      "outputs": [
        {
          "output_type": "display_data",
          "data": {
            "text/plain": [
              "<Figure size 500x500 with 2 Axes>"
            ],
            "image/png": "[encoded data removed]"
          },
          "metadata": {}
        }
      ]
    },
    {
      "cell_type": "markdown",
      "source": [
        "*Removing all Nans in the relevant dataset chosen*"
      ],
      "metadata": {
        "id": "gydStn6F8zoI"
      }
    },
    {
      "cell_type": "code",
      "execution_count": null,
      "metadata": {
        "colab": {
          "base_uri": "https://localhost:8080/"
        },
        "id": "xknCNXm7E09D",
        "outputId": "0b1459bb-c2f5-49ef-8ed5-f658f864e7b7"
      },
      "outputs": [
        {
          "output_type": "execute_result",
          "data": {
            "text/plain": [
              "overall                   0\n",
              "potential                 0\n",
              "value_eur               237\n",
              "wage_eur                225\n",
              "passing                2083\n",
              "dribbling              2083\n",
              "movement_reactions        0\n",
              "power_shot_power          0\n",
              "mentality_composure       0\n",
              "dtype: int64"
            ]
          },
          "metadata": {},
          "execution_count": 9
        }
      ],
      "source": [
        "# checking if there exist any missing values\n",
        "relevantDataSet.isnull().sum()\n"
      ]
    },
    {
      "cell_type": "code",
      "execution_count": null,
      "metadata": {
        "colab": {
          "base_uri": "https://localhost:8080/",
          "height": 423
        },
        "id": "1_-R4R5CFIYh",
        "outputId": "8dbf2786-12e5-47e2-a6ca-3257cc5e6a99"
      },
      "outputs": [
        {
          "output_type": "execute_result",
          "data": {
            "text/plain": [
              "         value_eur  wage_eur  passing  dribbling\n",
              "0      103500000.0  560000.0     91.0       95.0\n",
              "1       63000000.0  220000.0     81.0       89.0\n",
              "2      111000000.0  240000.0     78.0       85.0\n",
              "3      132000000.0  270000.0     86.0       94.0\n",
              "4      129000000.0  370000.0     93.0       88.0\n",
              "...            ...       ...      ...        ...\n",
              "18939      70000.0    1000.0     26.0       27.0\n",
              "18940      70000.0    1000.0     49.0       47.0\n",
              "18941      45000.0    2000.0     49.0       46.0\n",
              "18942     130000.0     500.0     40.0       53.0\n",
              "18943     130000.0     500.0     48.0       49.0\n",
              "\n",
              "[18944 rows x 4 columns]"
            ],
            "text/html": [
              "\n",
              "  <div id=\"df-fd14d0ac-8629-4620-8333-fd224b42bfa9\" class=\"colab-df-container\">\n",
              "    <div>\n",
              "<style scoped>\n",
              "    .dataframe tbody tr th:only-of-type {\n",
              "        vertical-align: middle;\n",
              "    }\n",
              "\n",
              "    .dataframe tbody tr th {\n",
              "        vertical-align: top;\n",
              "    }\n",
              "\n",
              "    .dataframe thead th {\n",
              "        text-align: right;\n",
              "    }\n",
              "</style>\n",
              "<table border=\"1\" class=\"dataframe\">\n",
              "  <thead>\n",
              "    <tr style=\"text-align: right;\">\n",
              "      <th></th>\n",
              "      <th>value_eur</th>\n",
              "      <th>wage_eur</th>\n",
              "      <th>passing</th>\n",
              "      <th>dribbling</th>\n",
              "    </tr>\n",
              "  </thead>\n",
              "  <tbody>\n",
              "    <tr>\n",
              "      <th>0</th>\n",
              "      <td>103500000.0</td>\n",
              "      <td>560000.0</td>\n",
              "      <td>91.0</td>\n",
              "      <td>95.0</td>\n",
              "    </tr>\n",
              "    <tr>\n",
              "      <th>1</th>\n",
              "      <td>63000000.0</td>\n",
              "      <td>220000.0</td>\n",
              "      <td>81.0</td>\n",
              "      <td>89.0</td>\n",
              "    </tr>\n",
              "    <tr>\n",
              "      <th>2</th>\n",
              "      <td>111000000.0</td>\n",
              "      <td>240000.0</td>\n",
              "      <td>78.0</td>\n",
              "      <td>85.0</td>\n",
              "    </tr>\n",
              "    <tr>\n",
              "      <th>3</th>\n",
              "      <td>132000000.0</td>\n",
              "      <td>270000.0</td>\n",
              "      <td>86.0</td>\n",
              "      <td>94.0</td>\n",
              "    </tr>\n",
              "    <tr>\n",
              "      <th>4</th>\n",
              "      <td>129000000.0</td>\n",
              "      <td>370000.0</td>\n",
              "      <td>93.0</td>\n",
              "      <td>88.0</td>\n",
              "    </tr>\n",
              "    <tr>\n",
              "      <th>...</th>\n",
              "      <td>...</td>\n",
              "      <td>...</td>\n",
              "      <td>...</td>\n",
              "      <td>...</td>\n",
              "    </tr>\n",
              "    <tr>\n",
              "      <th>18939</th>\n",
              "      <td>70000.0</td>\n",
              "      <td>1000.0</td>\n",
              "      <td>26.0</td>\n",
              "      <td>27.0</td>\n",
              "    </tr>\n",
              "    <tr>\n",
              "      <th>18940</th>\n",
              "      <td>70000.0</td>\n",
              "      <td>1000.0</td>\n",
              "      <td>49.0</td>\n",
              "      <td>47.0</td>\n",
              "    </tr>\n",
              "    <tr>\n",
              "      <th>18941</th>\n",
              "      <td>45000.0</td>\n",
              "      <td>2000.0</td>\n",
              "      <td>49.0</td>\n",
              "      <td>46.0</td>\n",
              "    </tr>\n",
              "    <tr>\n",
              "      <th>18942</th>\n",
              "      <td>130000.0</td>\n",
              "      <td>500.0</td>\n",
              "      <td>40.0</td>\n",
              "      <td>53.0</td>\n",
              "    </tr>\n",
              "    <tr>\n",
              "      <th>18943</th>\n",
              "      <td>130000.0</td>\n",
              "      <td>500.0</td>\n",
              "      <td>48.0</td>\n",
              "      <td>49.0</td>\n",
              "    </tr>\n",
              "  </tbody>\n",
              "</table>\n",
              "<p>18944 rows × 4 columns</p>\n",
              "</div>\n",
              "    <div class=\"colab-df-buttons\">\n",
              "\n",
              "  <div class=\"colab-df-container\">\n",
              "    <button class=\"colab-df-convert\" onclick=\"convertToInteractive('df-fd14d0ac-8629-4620-8333-fd224b42bfa9')\"\n",
              "            title=\"Convert this dataframe to an interactive table.\"\n",
              "            style=\"display:none;\">\n",
              "\n",
              "  <svg xmlns=\"http://www.w3.org/2000/svg\" height=\"24px\" viewBox=\"0 -960 960 960\">\n",
              "    <path d=\"M120-120v-720h720v720H120Zm60-500h600v-160H180v160Zm220 220h160v-160H400v160Zm0 220h160v-160H400v160ZM180-400h160v-160H180v160Zm440 0h160v-160H620v160ZM180-180h160v-160H180v160Zm440 0h160v-160H620v160Z\"/>\n",
              "  </svg>\n",
              "    </button>\n",
              "\n",
              "  <style>\n",
              "    .colab-df-container {\n",
              "      display:flex;\n",
              "      gap: 12px;\n",
              "    }\n",
              "\n",
              "    .colab-df-convert {\n",
              "      background-color: #E8F0FE;\n",
              "      border: none;\n",
              "      border-radius: 50%;\n",
              "      cursor: pointer;\n",
              "      display: none;\n",
              "      fill: #1967D2;\n",
              "      height: 32px;\n",
              "      padding: 0 0 0 0;\n",
              "      width: 32px;\n",
              "    }\n",
              "\n",
              "    .colab-df-convert:hover {\n",
              "      background-color: #E2EBFA;\n",
              "      box-shadow: 0px 1px 2px rgba(60, 64, 67, 0.3), 0px 1px 3px 1px rgba(60, 64, 67, 0.15);\n",
              "      fill: #174EA6;\n",
              "    }\n",
              "\n",
              "    .colab-df-buttons div {\n",
              "      margin-bottom: 4px;\n",
              "    }\n",
              "\n",
              "    [theme=dark] .colab-df-convert {\n",
              "      background-color: #3B4455;\n",
              "      fill: #D2E3FC;\n",
              "    }\n",
              "\n",
              "    [theme=dark] .colab-df-convert:hover {\n",
              "      background-color: #434B5C;\n",
              "      box-shadow: 0px 1px 3px 1px rgba(0, 0, 0, 0.15);\n",
              "      filter: drop-shadow(0px 1px 2px rgba(0, 0, 0, 0.3));\n",
              "      fill: #FFFFFF;\n",
              "    }\n",
              "  </style>\n",
              "\n",
              "    <script>\n",
              "      const buttonEl =\n",
              "        document.querySelector('#df-fd14d0ac-8629-4620-8333-fd224b42bfa9 button.colab-df-convert');\n",
              "      buttonEl.style.display =\n",
              "        google.colab.kernel.accessAllowed ? 'block' : 'none';\n",
              "\n",
              "      async function convertToInteractive(key) {\n",
              "        const element = document.querySelector('#df-fd14d0ac-8629-4620-8333-fd224b42bfa9');\n",
              "        const dataTable =\n",
              "          await google.colab.kernel.invokeFunction('convertToInteractive',\n",
              "                                                    [key], {});\n",
              "        if (!dataTable) return;\n",
              "\n",
              "        const docLinkHtml = 'Like what you see? Visit the ' +\n",
              "          '<a target=\"_blank\" href=https://colab.research.google.com/notebooks/data_table.ipynb>data table notebook</a>'\n",
              "          + ' to learn more about interactive tables.';\n",
              "        element.innerHTML = '';\n",
              "        dataTable['output_type'] = 'display_data';\n",
              "        await google.colab.output.renderOutput(dataTable, element);\n",
              "        const docLink = document.createElement('div');\n",
              "        docLink.innerHTML = docLinkHtml;\n",
              "        element.appendChild(docLink);\n",
              "      }\n",
              "    </script>\n",
              "  </div>\n",
              "\n",
              "\n",
              "<div id=\"df-de169332-c271-4f14-8fe9-0c88b49bcf82\">\n",
              "  <button class=\"colab-df-quickchart\" onclick=\"quickchart('df-de169332-c271-4f14-8fe9-0c88b49bcf82')\"\n",
              "            title=\"Suggest charts.\"\n",
              "            style=\"display:none;\">\n",
              "\n",
              "<svg xmlns=\"http://www.w3.org/2000/svg\" height=\"24px\"viewBox=\"0 0 24 24\"\n",
              "     width=\"24px\">\n",
              "    <g>\n",
              "        <path d=\"M19 3H5c-1.1 0-2 .9-2 2v14c0 1.1.9 2 2 2h14c1.1 0 2-.9 2-2V5c0-1.1-.9-2-2-2zM9 17H7v-7h2v7zm4 0h-2V7h2v10zm4 0h-2v-4h2v4z\"/>\n",
              "    </g>\n",
              "</svg>\n",
              "  </button>\n",
              "\n",
              "<style>\n",
              "  .colab-df-quickchart {\n",
              "      --bg-color: #E8F0FE;\n",
              "      --fill-color: #1967D2;\n",
              "      --hover-bg-color: #E2EBFA;\n",
              "      --hover-fill-color: #174EA6;\n",
              "      --disabled-fill-color: #AAA;\n",
              "      --disabled-bg-color: #DDD;\n",
              "  }\n",
              "\n",
              "  [theme=dark] .colab-df-quickchart {\n",
              "      --bg-color: #3B4455;\n",
              "      --fill-color: #D2E3FC;\n",
              "      --hover-bg-color: #434B5C;\n",
              "      --hover-fill-color: #FFFFFF;\n",
              "      --disabled-bg-color: #3B4455;\n",
              "      --disabled-fill-color: #666;\n",
              "  }\n",
              "\n",
              "  .colab-df-quickchart {\n",
              "    background-color: var(--bg-color);\n",
              "    border: none;\n",
              "    border-radius: 50%;\n",
              "    cursor: pointer;\n",
              "    display: none;\n",
              "    fill: var(--fill-color);\n",
              "    height: 32px;\n",
              "    padding: 0;\n",
              "    width: 32px;\n",
              "  }\n",
              "\n",
              "  .colab-df-quickchart:hover {\n",
              "    background-color: var(--hover-bg-color);\n",
              "    box-shadow: 0 1px 2px rgba(60, 64, 67, 0.3), 0 1px 3px 1px rgba(60, 64, 67, 0.15);\n",
              "    fill: var(--button-hover-fill-color);\n",
              "  }\n",
              "\n",
              "  .colab-df-quickchart-complete:disabled,\n",
              "  .colab-df-quickchart-complete:disabled:hover {\n",
              "    background-color: var(--disabled-bg-color);\n",
              "    fill: var(--disabled-fill-color);\n",
              "    box-shadow: none;\n",
              "  }\n",
              "\n",
              "  .colab-df-spinner {\n",
              "    border: 2px solid var(--fill-color);\n",
              "    border-color: transparent;\n",
              "    border-bottom-color: var(--fill-color);\n",
              "    animation:\n",
              "      spin 1s steps(1) infinite;\n",
              "  }\n",
              "\n",
              "  @keyframes spin {\n",
              "    0% {\n",
              "      border-color: transparent;\n",
              "      border-bottom-color: var(--fill-color);\n",
              "      border-left-color: var(--fill-color);\n",
              "    }\n",
              "    20% {\n",
              "      border-color: transparent;\n",
              "      border-left-color: var(--fill-color);\n",
              "      border-top-color: var(--fill-color);\n",
              "    }\n",
              "    30% {\n",
              "      border-color: transparent;\n",
              "      border-left-color: var(--fill-color);\n",
              "      border-top-color: var(--fill-color);\n",
              "      border-right-color: var(--fill-color);\n",
              "    }\n",
              "    40% {\n",
              "      border-color: transparent;\n",
              "      border-right-color: var(--fill-color);\n",
              "      border-top-color: var(--fill-color);\n",
              "    }\n",
              "    60% {\n",
              "      border-color: transparent;\n",
              "      border-right-color: var(--fill-color);\n",
              "    }\n",
              "    80% {\n",
              "      border-color: transparent;\n",
              "      border-right-color: var(--fill-color);\n",
              "      border-bottom-color: var(--fill-color);\n",
              "    }\n",
              "    90% {\n",
              "      border-color: transparent;\n",
              "      border-bottom-color: var(--fill-color);\n",
              "    }\n",
              "  }\n",
              "</style>\n",
              "\n",
              "  <script>\n",
              "    async function quickchart(key) {\n",
              "      const quickchartButtonEl =\n",
              "        document.querySelector('#' + key + ' button');\n",
              "      quickchartButtonEl.disabled = true;  // To prevent multiple clicks.\n",
              "      quickchartButtonEl.classList.add('colab-df-spinner');\n",
              "      try {\n",
              "        const charts = await google.colab.kernel.invokeFunction(\n",
              "            'suggestCharts', [key], {});\n",
              "      } catch (error) {\n",
              "        console.error('Error during call to suggestCharts:', error);\n",
              "      }\n",
              "      quickchartButtonEl.classList.remove('colab-df-spinner');\n",
              "      quickchartButtonEl.classList.add('colab-df-quickchart-complete');\n",
              "    }\n",
              "    (() => {\n",
              "      let quickchartButtonEl =\n",
              "        document.querySelector('#df-de169332-c271-4f14-8fe9-0c88b49bcf82 button');\n",
              "      quickchartButtonEl.style.display =\n",
              "        google.colab.kernel.accessAllowed ? 'block' : 'none';\n",
              "    })();\n",
              "  </script>\n",
              "</div>\n",
              "    </div>\n",
              "  </div>\n"
            ]
          },
          "metadata": {},
          "execution_count": 11
        }
      ],
      "source": [
        "# get dataset columns with null\n",
        "uncleanData=relevantDataSet.loc[:,\"value_eur\":\"dribbling\"]\n",
        "uncleanData"
      ]
    },
    {
      "cell_type": "code",
      "execution_count": null,
      "metadata": {
        "colab": {
          "base_uri": "https://localhost:8080/"
        },
        "id": "55PhCOxBGMmp",
        "outputId": "81404841-2851-4237-f0bb-ad49632ca792"
      },
      "outputs": [
        {
          "output_type": "execute_result",
          "data": {
            "text/plain": [
              "value_eur    0\n",
              "wage_eur     0\n",
              "passing      0\n",
              "dribbling    0\n",
              "dtype: int64"
            ]
          },
          "metadata": {},
          "execution_count": 12
        }
      ],
      "source": [
        "# Using SimpleImpute to fill all Nan in my DataSet with the dean of each column\n",
        "imp=SimpleImputer(strategy='median')\n",
        "a=imp.fit_transform(uncleanData)\n",
        "sub_df=pd.DataFrame(a, columns=uncleanData.columns)\n",
        "\n",
        "# Checking if it worked\n",
        "sub_df.isnull().sum()\n"
      ]
    },
    {
      "cell_type": "code",
      "execution_count": null,
      "metadata": {
        "colab": {
          "base_uri": "https://localhost:8080/"
        },
        "id": "Y2kCMMf_HVZy",
        "outputId": "515e0c4e-630f-49fd-e070-9a14595decfd"
      },
      "outputs": [
        {
          "output_type": "stream",
          "name": "stderr",
          "text": [
            "<ipython-input-13-543ef448255a>:2: SettingWithCopyWarning: \n",
            "A value is trying to be set on a copy of a slice from a DataFrame\n",
            "\n",
            "See the caveats in the documentation: https://pandas.pydata.org/pandas-docs/stable/user_guide/indexing.html#returning-a-view-versus-a-copy\n",
            "  relevantDataSet.drop(uncleanData,axis=1,inplace=True)\n"
          ]
        },
        {
          "output_type": "execute_result",
          "data": {
            "text/plain": [
              "(18944, 5)"
            ]
          },
          "metadata": {},
          "execution_count": 13
        }
      ],
      "source": [
        "# Removing the unclean columns from our original relevant dataset\n",
        "relevantDataSet.drop(uncleanData,axis=1,inplace=True)\n",
        "relevantDataSet.shape"
      ]
    },
    {
      "cell_type": "code",
      "execution_count": null,
      "metadata": {
        "colab": {
          "base_uri": "https://localhost:8080/"
        },
        "id": "jOK1KBKpLaso",
        "outputId": "c2f8951e-f3b2-4aa4-b9ff-3dd6eac3ff07"
      },
      "outputs": [
        {
          "output_type": "execute_result",
          "data": {
            "text/plain": [
              "overall                  int64\n",
              "potential                int64\n",
              "movement_reactions       int64\n",
              "power_shot_power         int64\n",
              "mentality_composure      int64\n",
              "value_eur              float64\n",
              "wage_eur               float64\n",
              "passing                float64\n",
              "dribbling              float64\n",
              "dtype: object"
            ]
          },
          "metadata": {},
          "execution_count": 14
        }
      ],
      "source": [
        "# Combining my revised unclean dataset to my relevant dataset\n",
        "relevantDataSet_update=pd.concat([relevantDataSet,sub_df],axis=1)\n",
        "relevantDataSet_update.isnull().sum()\n",
        "relevantDataSet_update\n",
        "\n",
        "relevantDataSet_update.dtypes"
      ]
    },
    {
      "cell_type": "code",
      "execution_count": null,
      "metadata": {
        "colab": {
          "base_uri": "https://localhost:8080/"
        },
        "id": "7qoPyG2tDra0",
        "outputId": "3eb019c1-06fe-4d8f-c2ef-2adaa3e09cfa"
      },
      "outputs": [
        {
          "output_type": "execute_result",
          "data": {
            "text/plain": [
              "array([[ 3.58656347,  3.55443758,  2.11902561, ..., 27.84507796,\n",
              "         3.48251869,  3.41067019],\n",
              "       [ 3.42289263,  3.66417438,  2.7191631 , ..., 10.66064386,\n",
              "         2.45114847,  2.77857172],\n",
              "       [ 3.25922178,  3.44470079,  2.34407717, ..., 11.67149293,\n",
              "         2.1417374 ,  2.35717274],\n",
              "       ...,\n",
              "       [-3.94229527, -1.93240217, -0.65661025, ..., -0.35761093,\n",
              "        -0.84923625, -1.75146732],\n",
              "       [-0.66887843, -0.94477101, -0.58159306, ..., -0.43342461,\n",
              "        -1.77746946, -1.0140191 ],\n",
              "       [-0.66887843, -1.1642446 , -0.73162744, ..., -0.43342461,\n",
              "        -0.95237328, -1.43541808]])"
            ]
          },
          "metadata": {},
          "execution_count": 15
        }
      ],
      "source": [
        "# Scaling the columns to make better to prediciton\n",
        "sc=StandardScaler()\n",
        "\n",
        "# Finding scaler of relevantDataSet values without overall\n",
        "scaled=sc.fit_transform(relevantDataSet_update.loc[:,\"potential\":])\n",
        "scaled"
      ]
    },
    {
      "cell_type": "code",
      "execution_count": null,
      "metadata": {
        "colab": {
          "base_uri": "https://localhost:8080/",
          "height": 443
        },
        "id": "Hv1PmBdKKZCz",
        "outputId": "15c166c4-a805-494a-f48e-6abdb16632d2"
      },
      "outputs": [
        {
          "output_type": "execute_result",
          "data": {
            "text/plain": [
              "       potential  movement_reactions  power_shot_power  mentality_composure  \\\n",
              "0       3.586563            3.554438          2.119026             3.137573   \n",
              "1       3.422893            3.664174          2.719163             3.055051   \n",
              "2       3.259222            3.444701          2.344077             2.477402   \n",
              "3       3.259222            3.225227          1.668922             2.890009   \n",
              "4       3.259222            3.225227          2.494112             2.724966   \n",
              "...          ...                 ...               ...                  ...   \n",
              "18939  -3.123941           -1.493455         -1.706851            -1.483625   \n",
              "18940  -2.960270           -1.273981         -1.481799            -1.896232   \n",
              "18941  -3.942295           -1.932402         -0.656610            -1.896232   \n",
              "18942  -0.668878           -0.944771         -0.581593            -1.071018   \n",
              "18943  -0.668878           -1.164245         -0.731627            -1.648668   \n",
              "\n",
              "       value_eur   wage_eur   passing  dribbling  \n",
              "0      13.071234  27.845078  3.482519   3.410670  \n",
              "1       7.810099  10.660644  2.451148   2.778572  \n",
              "2      14.045519  11.671493  2.141737   2.357173  \n",
              "3      16.773515  13.187767  2.966834   3.305320  \n",
              "4      16.383801  18.242012  3.688793   2.673222  \n",
              "...          ...        ...       ...        ...  \n",
              "18939  -0.364795  -0.408153 -3.221388  -3.753112  \n",
              "18940  -0.364795  -0.408153 -0.849236  -1.646118  \n",
              "18941  -0.368043  -0.357611 -0.849236  -1.751467  \n",
              "18942  -0.357001  -0.433425 -1.777469  -1.014019  \n",
              "18943  -0.357001  -0.433425 -0.952373  -1.435418  \n",
              "\n",
              "[18944 rows x 8 columns]"
            ],
            "text/html": [
              "\n",
              "  <div id=\"df-103bb853-98ad-4417-ac86-3e47fd14b13b\" class=\"colab-df-container\">\n",
              "    <div>\n",
              "<style scoped>\n",
              "    .dataframe tbody tr th:only-of-type {\n",
              "        vertical-align: middle;\n",
              "    }\n",
              "\n",
              "    .dataframe tbody tr th {\n",
              "        vertical-align: top;\n",
              "    }\n",
              "\n",
              "    .dataframe thead th {\n",
              "        text-align: right;\n",
              "    }\n",
              "</style>\n",
              "<table border=\"1\" class=\"dataframe\">\n",
              "  <thead>\n",
              "    <tr style=\"text-align: right;\">\n",
              "      <th></th>\n",
              "      <th>potential</th>\n",
              "      <th>movement_reactions</th>\n",
              "      <th>power_shot_power</th>\n",
              "      <th>mentality_composure</th>\n",
              "      <th>value_eur</th>\n",
              "      <th>wage_eur</th>\n",
              "      <th>passing</th>\n",
              "      <th>dribbling</th>\n",
              "    </tr>\n",
              "  </thead>\n",
              "  <tbody>\n",
              "    <tr>\n",
              "      <th>0</th>\n",
              "      <td>3.586563</td>\n",
              "      <td>3.554438</td>\n",
              "      <td>2.119026</td>\n",
              "      <td>3.137573</td>\n",
              "      <td>13.071234</td>\n",
              "      <td>27.845078</td>\n",
              "      <td>3.482519</td>\n",
              "      <td>3.410670</td>\n",
              "    </tr>\n",
              "    <tr>\n",
              "      <th>1</th>\n",
              "      <td>3.422893</td>\n",
              "      <td>3.664174</td>\n",
              "      <td>2.719163</td>\n",
              "      <td>3.055051</td>\n",
              "      <td>7.810099</td>\n",
              "      <td>10.660644</td>\n",
              "      <td>2.451148</td>\n",
              "      <td>2.778572</td>\n",
              "    </tr>\n",
              "    <tr>\n",
              "      <th>2</th>\n",
              "      <td>3.259222</td>\n",
              "      <td>3.444701</td>\n",
              "      <td>2.344077</td>\n",
              "      <td>2.477402</td>\n",
              "      <td>14.045519</td>\n",
              "      <td>11.671493</td>\n",
              "      <td>2.141737</td>\n",
              "      <td>2.357173</td>\n",
              "    </tr>\n",
              "    <tr>\n",
              "      <th>3</th>\n",
              "      <td>3.259222</td>\n",
              "      <td>3.225227</td>\n",
              "      <td>1.668922</td>\n",
              "      <td>2.890009</td>\n",
              "      <td>16.773515</td>\n",
              "      <td>13.187767</td>\n",
              "      <td>2.966834</td>\n",
              "      <td>3.305320</td>\n",
              "    </tr>\n",
              "    <tr>\n",
              "      <th>4</th>\n",
              "      <td>3.259222</td>\n",
              "      <td>3.225227</td>\n",
              "      <td>2.494112</td>\n",
              "      <td>2.724966</td>\n",
              "      <td>16.383801</td>\n",
              "      <td>18.242012</td>\n",
              "      <td>3.688793</td>\n",
              "      <td>2.673222</td>\n",
              "    </tr>\n",
              "    <tr>\n",
              "      <th>...</th>\n",
              "      <td>...</td>\n",
              "      <td>...</td>\n",
              "      <td>...</td>\n",
              "      <td>...</td>\n",
              "      <td>...</td>\n",
              "      <td>...</td>\n",
              "      <td>...</td>\n",
              "      <td>...</td>\n",
              "    </tr>\n",
              "    <tr>\n",
              "      <th>18939</th>\n",
              "      <td>-3.123941</td>\n",
              "      <td>-1.493455</td>\n",
              "      <td>-1.706851</td>\n",
              "      <td>-1.483625</td>\n",
              "      <td>-0.364795</td>\n",
              "      <td>-0.408153</td>\n",
              "      <td>-3.221388</td>\n",
              "      <td>-3.753112</td>\n",
              "    </tr>\n",
              "    <tr>\n",
              "      <th>18940</th>\n",
              "      <td>-2.960270</td>\n",
              "      <td>-1.273981</td>\n",
              "      <td>-1.481799</td>\n",
              "      <td>-1.896232</td>\n",
              "      <td>-0.364795</td>\n",
              "      <td>-0.408153</td>\n",
              "      <td>-0.849236</td>\n",
              "      <td>-1.646118</td>\n",
              "    </tr>\n",
              "    <tr>\n",
              "      <th>18941</th>\n",
              "      <td>-3.942295</td>\n",
              "      <td>-1.932402</td>\n",
              "      <td>-0.656610</td>\n",
              "      <td>-1.896232</td>\n",
              "      <td>-0.368043</td>\n",
              "      <td>-0.357611</td>\n",
              "      <td>-0.849236</td>\n",
              "      <td>-1.751467</td>\n",
              "    </tr>\n",
              "    <tr>\n",
              "      <th>18942</th>\n",
              "      <td>-0.668878</td>\n",
              "      <td>-0.944771</td>\n",
              "      <td>-0.581593</td>\n",
              "      <td>-1.071018</td>\n",
              "      <td>-0.357001</td>\n",
              "      <td>-0.433425</td>\n",
              "      <td>-1.777469</td>\n",
              "      <td>-1.014019</td>\n",
              "    </tr>\n",
              "    <tr>\n",
              "      <th>18943</th>\n",
              "      <td>-0.668878</td>\n",
              "      <td>-1.164245</td>\n",
              "      <td>-0.731627</td>\n",
              "      <td>-1.648668</td>\n",
              "      <td>-0.357001</td>\n",
              "      <td>-0.433425</td>\n",
              "      <td>-0.952373</td>\n",
              "      <td>-1.435418</td>\n",
              "    </tr>\n",
              "  </tbody>\n",
              "</table>\n",
              "<p>18944 rows × 8 columns</p>\n",
              "</div>\n",
              "    <div class=\"colab-df-buttons\">\n",
              "\n",
              "  <div class=\"colab-df-container\">\n",
              "    <button class=\"colab-df-convert\" onclick=\"convertToInteractive('df-103bb853-98ad-4417-ac86-3e47fd14b13b')\"\n",
              "            title=\"Convert this dataframe to an interactive table.\"\n",
              "            style=\"display:none;\">\n",
              "\n",
              "  <svg xmlns=\"http://www.w3.org/2000/svg\" height=\"24px\" viewBox=\"0 -960 960 960\">\n",
              "    <path d=\"M120-120v-720h720v720H120Zm60-500h600v-160H180v160Zm220 220h160v-160H400v160Zm0 220h160v-160H400v160ZM180-400h160v-160H180v160Zm440 0h160v-160H620v160ZM180-180h160v-160H180v160Zm440 0h160v-160H620v160Z\"/>\n",
              "  </svg>\n",
              "    </button>\n",
              "\n",
              "  <style>\n",
              "    .colab-df-container {\n",
              "      display:flex;\n",
              "      gap: 12px;\n",
              "    }\n",
              "\n",
              "    .colab-df-convert {\n",
              "      background-color: #E8F0FE;\n",
              "      border: none;\n",
              "      border-radius: 50%;\n",
              "      cursor: pointer;\n",
              "      display: none;\n",
              "      fill: #1967D2;\n",
              "      height: 32px;\n",
              "      padding: 0 0 0 0;\n",
              "      width: 32px;\n",
              "    }\n",
              "\n",
              "    .colab-df-convert:hover {\n",
              "      background-color: #E2EBFA;\n",
              "      box-shadow: 0px 1px 2px rgba(60, 64, 67, 0.3), 0px 1px 3px 1px rgba(60, 64, 67, 0.15);\n",
              "      fill: #174EA6;\n",
              "    }\n",
              "\n",
              "    .colab-df-buttons div {\n",
              "      margin-bottom: 4px;\n",
              "    }\n",
              "\n",
              "    [theme=dark] .colab-df-convert {\n",
              "      background-color: #3B4455;\n",
              "      fill: #D2E3FC;\n",
              "    }\n",
              "\n",
              "    [theme=dark] .colab-df-convert:hover {\n",
              "      background-color: #434B5C;\n",
              "      box-shadow: 0px 1px 3px 1px rgba(0, 0, 0, 0.15);\n",
              "      filter: drop-shadow(0px 1px 2px rgba(0, 0, 0, 0.3));\n",
              "      fill: #FFFFFF;\n",
              "    }\n",
              "  </style>\n",
              "\n",
              "    <script>\n",
              "      const buttonEl =\n",
              "        document.querySelector('#df-103bb853-98ad-4417-ac86-3e47fd14b13b button.colab-df-convert');\n",
              "      buttonEl.style.display =\n",
              "        google.colab.kernel.accessAllowed ? 'block' : 'none';\n",
              "\n",
              "      async function convertToInteractive(key) {\n",
              "        const element = document.querySelector('#df-103bb853-98ad-4417-ac86-3e47fd14b13b');\n",
              "        const dataTable =\n",
              "          await google.colab.kernel.invokeFunction('convertToInteractive',\n",
              "                                                    [key], {});\n",
              "        if (!dataTable) return;\n",
              "\n",
              "        const docLinkHtml = 'Like what you see? Visit the ' +\n",
              "          '<a target=\"_blank\" href=https://colab.research.google.com/notebooks/data_table.ipynb>data table notebook</a>'\n",
              "          + ' to learn more about interactive tables.';\n",
              "        element.innerHTML = '';\n",
              "        dataTable['output_type'] = 'display_data';\n",
              "        await google.colab.output.renderOutput(dataTable, element);\n",
              "        const docLink = document.createElement('div');\n",
              "        docLink.innerHTML = docLinkHtml;\n",
              "        element.appendChild(docLink);\n",
              "      }\n",
              "    </script>\n",
              "  </div>\n",
              "\n",
              "\n",
              "<div id=\"df-d3a85fea-eb4d-4c2b-858b-e63768a19d2c\">\n",
              "  <button class=\"colab-df-quickchart\" onclick=\"quickchart('df-d3a85fea-eb4d-4c2b-858b-e63768a19d2c')\"\n",
              "            title=\"Suggest charts.\"\n",
              "            style=\"display:none;\">\n",
              "\n",
              "<svg xmlns=\"http://www.w3.org/2000/svg\" height=\"24px\"viewBox=\"0 0 24 24\"\n",
              "     width=\"24px\">\n",
              "    <g>\n",
              "        <path d=\"M19 3H5c-1.1 0-2 .9-2 2v14c0 1.1.9 2 2 2h14c1.1 0 2-.9 2-2V5c0-1.1-.9-2-2-2zM9 17H7v-7h2v7zm4 0h-2V7h2v10zm4 0h-2v-4h2v4z\"/>\n",
              "    </g>\n",
              "</svg>\n",
              "  </button>\n",
              "\n",
              "<style>\n",
              "  .colab-df-quickchart {\n",
              "      --bg-color: #E8F0FE;\n",
              "      --fill-color: #1967D2;\n",
              "      --hover-bg-color: #E2EBFA;\n",
              "      --hover-fill-color: #174EA6;\n",
              "      --disabled-fill-color: #AAA;\n",
              "      --disabled-bg-color: #DDD;\n",
              "  }\n",
              "\n",
              "  [theme=dark] .colab-df-quickchart {\n",
              "      --bg-color: #3B4455;\n",
              "      --fill-color: #D2E3FC;\n",
              "      --hover-bg-color: #434B5C;\n",
              "      --hover-fill-color: #FFFFFF;\n",
              "      --disabled-bg-color: #3B4455;\n",
              "      --disabled-fill-color: #666;\n",
              "  }\n",
              "\n",
              "  .colab-df-quickchart {\n",
              "    background-color: var(--bg-color);\n",
              "    border: none;\n",
              "    border-radius: 50%;\n",
              "    cursor: pointer;\n",
              "    display: none;\n",
              "    fill: var(--fill-color);\n",
              "    height: 32px;\n",
              "    padding: 0;\n",
              "    width: 32px;\n",
              "  }\n",
              "\n",
              "  .colab-df-quickchart:hover {\n",
              "    background-color: var(--hover-bg-color);\n",
              "    box-shadow: 0 1px 2px rgba(60, 64, 67, 0.3), 0 1px 3px 1px rgba(60, 64, 67, 0.15);\n",
              "    fill: var(--button-hover-fill-color);\n",
              "  }\n",
              "\n",
              "  .colab-df-quickchart-complete:disabled,\n",
              "  .colab-df-quickchart-complete:disabled:hover {\n",
              "    background-color: var(--disabled-bg-color);\n",
              "    fill: var(--disabled-fill-color);\n",
              "    box-shadow: none;\n",
              "  }\n",
              "\n",
              "  .colab-df-spinner {\n",
              "    border: 2px solid var(--fill-color);\n",
              "    border-color: transparent;\n",
              "    border-bottom-color: var(--fill-color);\n",
              "    animation:\n",
              "      spin 1s steps(1) infinite;\n",
              "  }\n",
              "\n",
              "  @keyframes spin {\n",
              "    0% {\n",
              "      border-color: transparent;\n",
              "      border-bottom-color: var(--fill-color);\n",
              "      border-left-color: var(--fill-color);\n",
              "    }\n",
              "    20% {\n",
              "      border-color: transparent;\n",
              "      border-left-color: var(--fill-color);\n",
              "      border-top-color: var(--fill-color);\n",
              "    }\n",
              "    30% {\n",
              "      border-color: transparent;\n",
              "      border-left-color: var(--fill-color);\n",
              "      border-top-color: var(--fill-color);\n",
              "      border-right-color: var(--fill-color);\n",
              "    }\n",
              "    40% {\n",
              "      border-color: transparent;\n",
              "      border-right-color: var(--fill-color);\n",
              "      border-top-color: var(--fill-color);\n",
              "    }\n",
              "    60% {\n",
              "      border-color: transparent;\n",
              "      border-right-color: var(--fill-color);\n",
              "    }\n",
              "    80% {\n",
              "      border-color: transparent;\n",
              "      border-right-color: var(--fill-color);\n",
              "      border-bottom-color: var(--fill-color);\n",
              "    }\n",
              "    90% {\n",
              "      border-color: transparent;\n",
              "      border-bottom-color: var(--fill-color);\n",
              "    }\n",
              "  }\n",
              "</style>\n",
              "\n",
              "  <script>\n",
              "    async function quickchart(key) {\n",
              "      const quickchartButtonEl =\n",
              "        document.querySelector('#' + key + ' button');\n",
              "      quickchartButtonEl.disabled = true;  // To prevent multiple clicks.\n",
              "      quickchartButtonEl.classList.add('colab-df-spinner');\n",
              "      try {\n",
              "        const charts = await google.colab.kernel.invokeFunction(\n",
              "            'suggestCharts', [key], {});\n",
              "      } catch (error) {\n",
              "        console.error('Error during call to suggestCharts:', error);\n",
              "      }\n",
              "      quickchartButtonEl.classList.remove('colab-df-spinner');\n",
              "      quickchartButtonEl.classList.add('colab-df-quickchart-complete');\n",
              "    }\n",
              "    (() => {\n",
              "      let quickchartButtonEl =\n",
              "        document.querySelector('#df-d3a85fea-eb4d-4c2b-858b-e63768a19d2c button');\n",
              "      quickchartButtonEl.style.display =\n",
              "        google.colab.kernel.accessAllowed ? 'block' : 'none';\n",
              "    })();\n",
              "  </script>\n",
              "</div>\n",
              "    </div>\n",
              "  </div>\n"
            ]
          },
          "metadata": {},
          "execution_count": 16
        }
      ],
      "source": [
        "# create a new dataFrame of my scaled dataset\n",
        "\n",
        "sub_set_data=pd.DataFrame(scaled,columns=relevantDataSet_update.loc[:,\"potential\":].columns)\n",
        "sub_set_data"
      ]
    },
    {
      "cell_type": "markdown",
      "source": [
        "*Defining xtrain as x and ytrain as y for further training*"
      ],
      "metadata": {
        "id": "YuBNoIqH9p0f"
      }
    },
    {
      "cell_type": "code",
      "execution_count": null,
      "metadata": {
        "id": "kHQemXaz8PQ0"
      },
      "outputs": [],
      "source": [
        "x=sub_set_data\n",
        "y=relevantDataSet_update['overall']"
      ]
    },
    {
      "cell_type": "markdown",
      "source": [
        "**Creating my testing dataset for predicting**"
      ],
      "metadata": {
        "id": "GBVXD7Lh969F"
      }
    },
    {
      "cell_type": "code",
      "execution_count": null,
      "metadata": {
        "colab": {
          "base_uri": "https://localhost:8080/",
          "height": 660
        },
        "id": "JpePCRSm8Zy4",
        "outputId": "05e17b25-72e4-4a6a-aa60-e224909dc8de"
      },
      "outputs": [
        {
          "output_type": "stream",
          "name": "stderr",
          "text": [
            "<ipython-input-30-7e4103716f9d>:4: DtypeWarning: Columns (25,108) have mixed types. Specify dtype option on import or set low_memory=False.\n",
            "  df2=pd.read_csv(\"/content/drive/My Drive/AI/players_22.csv\")\n",
            "<ipython-input-30-7e4103716f9d>:14: SettingWithCopyWarning: \n",
            "A value is trying to be set on a copy of a slice from a DataFrame\n",
            "\n",
            "See the caveats in the documentation: https://pandas.pydata.org/pandas-docs/stable/user_guide/indexing.html#returning-a-view-versus-a-copy\n",
            "  relevantDataSet2.drop(['release_clause_eur'], axis=1, inplace=True)\n",
            "<ipython-input-30-7e4103716f9d>:22: SettingWithCopyWarning: \n",
            "A value is trying to be set on a copy of a slice from a DataFrame\n",
            "\n",
            "See the caveats in the documentation: https://pandas.pydata.org/pandas-docs/stable/user_guide/indexing.html#returning-a-view-versus-a-copy\n",
            "  relevantDataSet2.drop(uncleanData2,axis=1,inplace=True)\n"
          ]
        },
        {
          "output_type": "execute_result",
          "data": {
            "text/plain": [
              "       potential  movement_reactions  power_shot_power  mentality_composure  \\\n",
              "0       3.601780            3.599846          2.139433             3.131025   \n",
              "1       3.437470            3.489252          2.442649             2.473077   \n",
              "2       3.273160            3.599846          2.745866             3.048782   \n",
              "3       3.273160            3.046874          1.684607             2.884295   \n",
              "4       3.273160            3.268063          2.518454             2.555321   \n",
              "...          ...                 ...               ...                  ...   \n",
              "19234  -3.134932           -0.934526         -0.892735            -1.721343   \n",
              "19235  -1.984762           -1.376903         -0.665323            -0.898908   \n",
              "19236  -2.642002           -1.708687         -0.589519            -1.803587   \n",
              "19237  -1.820452           -1.487498         -0.741127            -0.898908   \n",
              "19238  -1.820452           -0.823931         -0.589519            -1.803587   \n",
              "\n",
              "       value_eur   wage_eur   passing  dribbling  \n",
              "0       9.889397  15.996581  3.539198   3.542596  \n",
              "1      15.350116  13.424792  2.275622   2.554865  \n",
              "2       5.547138  13.424792  2.380920   2.774360  \n",
              "3      16.600160  13.424792  3.012708   3.432848  \n",
              "4      16.139617  17.539654  3.749794   2.774360  \n",
              "...          ...        ...       ...        ...  \n",
              "19234  -0.364913  -0.411430 -1.199211  -1.615558  \n",
              "19235  -0.359649  -0.437148 -0.778020  -1.835054  \n",
              "19236  -0.360965  -0.437148 -1.304509  -1.505810  \n",
              "19237  -0.359649  -0.437148 -2.252191  -1.615558  \n",
              "19238  -0.359649  -0.437148 -1.304509  -1.615558  \n",
              "\n",
              "[19239 rows x 8 columns]"
            ],
            "text/html": [
              "\n",
              "  <div id=\"df-026555bd-ee9c-476a-9251-1643771c522c\" class=\"colab-df-container\">\n",
              "    <div>\n",
              "<style scoped>\n",
              "    .dataframe tbody tr th:only-of-type {\n",
              "        vertical-align: middle;\n",
              "    }\n",
              "\n",
              "    .dataframe tbody tr th {\n",
              "        vertical-align: top;\n",
              "    }\n",
              "\n",
              "    .dataframe thead th {\n",
              "        text-align: right;\n",
              "    }\n",
              "</style>\n",
              "<table border=\"1\" class=\"dataframe\">\n",
              "  <thead>\n",
              "    <tr style=\"text-align: right;\">\n",
              "      <th></th>\n",
              "      <th>potential</th>\n",
              "      <th>movement_reactions</th>\n",
              "      <th>power_shot_power</th>\n",
              "      <th>mentality_composure</th>\n",
              "      <th>value_eur</th>\n",
              "      <th>wage_eur</th>\n",
              "      <th>passing</th>\n",
              "      <th>dribbling</th>\n",
              "    </tr>\n",
              "  </thead>\n",
              "  <tbody>\n",
              "    <tr>\n",
              "      <th>0</th>\n",
              "      <td>3.601780</td>\n",
              "      <td>3.599846</td>\n",
              "      <td>2.139433</td>\n",
              "      <td>3.131025</td>\n",
              "      <td>9.889397</td>\n",
              "      <td>15.996581</td>\n",
              "      <td>3.539198</td>\n",
              "      <td>3.542596</td>\n",
              "    </tr>\n",
              "    <tr>\n",
              "      <th>1</th>\n",
              "      <td>3.437470</td>\n",
              "      <td>3.489252</td>\n",
              "      <td>2.442649</td>\n",
              "      <td>2.473077</td>\n",
              "      <td>15.350116</td>\n",
              "      <td>13.424792</td>\n",
              "      <td>2.275622</td>\n",
              "      <td>2.554865</td>\n",
              "    </tr>\n",
              "    <tr>\n",
              "      <th>2</th>\n",
              "      <td>3.273160</td>\n",
              "      <td>3.599846</td>\n",
              "      <td>2.745866</td>\n",
              "      <td>3.048782</td>\n",
              "      <td>5.547138</td>\n",
              "      <td>13.424792</td>\n",
              "      <td>2.380920</td>\n",
              "      <td>2.774360</td>\n",
              "    </tr>\n",
              "    <tr>\n",
              "      <th>3</th>\n",
              "      <td>3.273160</td>\n",
              "      <td>3.046874</td>\n",
              "      <td>1.684607</td>\n",
              "      <td>2.884295</td>\n",
              "      <td>16.600160</td>\n",
              "      <td>13.424792</td>\n",
              "      <td>3.012708</td>\n",
              "      <td>3.432848</td>\n",
              "    </tr>\n",
              "    <tr>\n",
              "      <th>4</th>\n",
              "      <td>3.273160</td>\n",
              "      <td>3.268063</td>\n",
              "      <td>2.518454</td>\n",
              "      <td>2.555321</td>\n",
              "      <td>16.139617</td>\n",
              "      <td>17.539654</td>\n",
              "      <td>3.749794</td>\n",
              "      <td>2.774360</td>\n",
              "    </tr>\n",
              "    <tr>\n",
              "      <th>...</th>\n",
              "      <td>...</td>\n",
              "      <td>...</td>\n",
              "      <td>...</td>\n",
              "      <td>...</td>\n",
              "      <td>...</td>\n",
              "      <td>...</td>\n",
              "      <td>...</td>\n",
              "      <td>...</td>\n",
              "    </tr>\n",
              "    <tr>\n",
              "      <th>19234</th>\n",
              "      <td>-3.134932</td>\n",
              "      <td>-0.934526</td>\n",
              "      <td>-0.892735</td>\n",
              "      <td>-1.721343</td>\n",
              "      <td>-0.364913</td>\n",
              "      <td>-0.411430</td>\n",
              "      <td>-1.199211</td>\n",
              "      <td>-1.615558</td>\n",
              "    </tr>\n",
              "    <tr>\n",
              "      <th>19235</th>\n",
              "      <td>-1.984762</td>\n",
              "      <td>-1.376903</td>\n",
              "      <td>-0.665323</td>\n",
              "      <td>-0.898908</td>\n",
              "      <td>-0.359649</td>\n",
              "      <td>-0.437148</td>\n",
              "      <td>-0.778020</td>\n",
              "      <td>-1.835054</td>\n",
              "    </tr>\n",
              "    <tr>\n",
              "      <th>19236</th>\n",
              "      <td>-2.642002</td>\n",
              "      <td>-1.708687</td>\n",
              "      <td>-0.589519</td>\n",
              "      <td>-1.803587</td>\n",
              "      <td>-0.360965</td>\n",
              "      <td>-0.437148</td>\n",
              "      <td>-1.304509</td>\n",
              "      <td>-1.505810</td>\n",
              "    </tr>\n",
              "    <tr>\n",
              "      <th>19237</th>\n",
              "      <td>-1.820452</td>\n",
              "      <td>-1.487498</td>\n",
              "      <td>-0.741127</td>\n",
              "      <td>-0.898908</td>\n",
              "      <td>-0.359649</td>\n",
              "      <td>-0.437148</td>\n",
              "      <td>-2.252191</td>\n",
              "      <td>-1.615558</td>\n",
              "    </tr>\n",
              "    <tr>\n",
              "      <th>19238</th>\n",
              "      <td>-1.820452</td>\n",
              "      <td>-0.823931</td>\n",
              "      <td>-0.589519</td>\n",
              "      <td>-1.803587</td>\n",
              "      <td>-0.359649</td>\n",
              "      <td>-0.437148</td>\n",
              "      <td>-1.304509</td>\n",
              "      <td>-1.615558</td>\n",
              "    </tr>\n",
              "  </tbody>\n",
              "</table>\n",
              "<p>19239 rows × 8 columns</p>\n",
              "</div>\n",
              "    <div class=\"colab-df-buttons\">\n",
              "\n",
              "  <div class=\"colab-df-container\">\n",
              "    <button class=\"colab-df-convert\" onclick=\"convertToInteractive('df-026555bd-ee9c-476a-9251-1643771c522c')\"\n",
              "            title=\"Convert this dataframe to an interactive table.\"\n",
              "            style=\"display:none;\">\n",
              "\n",
              "  <svg xmlns=\"http://www.w3.org/2000/svg\" height=\"24px\" viewBox=\"0 -960 960 960\">\n",
              "    <path d=\"M120-120v-720h720v720H120Zm60-500h600v-160H180v160Zm220 220h160v-160H400v160Zm0 220h160v-160H400v160ZM180-400h160v-160H180v160Zm440 0h160v-160H620v160ZM180-180h160v-160H180v160Zm440 0h160v-160H620v160Z\"/>\n",
              "  </svg>\n",
              "    </button>\n",
              "\n",
              "  <style>\n",
              "    .colab-df-container {\n",
              "      display:flex;\n",
              "      gap: 12px;\n",
              "    }\n",
              "\n",
              "    .colab-df-convert {\n",
              "      background-color: #E8F0FE;\n",
              "      border: none;\n",
              "      border-radius: 50%;\n",
              "      cursor: pointer;\n",
              "      display: none;\n",
              "      fill: #1967D2;\n",
              "      height: 32px;\n",
              "      padding: 0 0 0 0;\n",
              "      width: 32px;\n",
              "    }\n",
              "\n",
              "    .colab-df-convert:hover {\n",
              "      background-color: #E2EBFA;\n",
              "      box-shadow: 0px 1px 2px rgba(60, 64, 67, 0.3), 0px 1px 3px 1px rgba(60, 64, 67, 0.15);\n",
              "      fill: #174EA6;\n",
              "    }\n",
              "\n",
              "    .colab-df-buttons div {\n",
              "      margin-bottom: 4px;\n",
              "    }\n",
              "\n",
              "    [theme=dark] .colab-df-convert {\n",
              "      background-color: #3B4455;\n",
              "      fill: #D2E3FC;\n",
              "    }\n",
              "\n",
              "    [theme=dark] .colab-df-convert:hover {\n",
              "      background-color: #434B5C;\n",
              "      box-shadow: 0px 1px 3px 1px rgba(0, 0, 0, 0.15);\n",
              "      filter: drop-shadow(0px 1px 2px rgba(0, 0, 0, 0.3));\n",
              "      fill: #FFFFFF;\n",
              "    }\n",
              "  </style>\n",
              "\n",
              "    <script>\n",
              "      const buttonEl =\n",
              "        document.querySelector('#df-026555bd-ee9c-476a-9251-1643771c522c button.colab-df-convert');\n",
              "      buttonEl.style.display =\n",
              "        google.colab.kernel.accessAllowed ? 'block' : 'none';\n",
              "\n",
              "      async function convertToInteractive(key) {\n",
              "        const element = document.querySelector('#df-026555bd-ee9c-476a-9251-1643771c522c');\n",
              "        const dataTable =\n",
              "          await google.colab.kernel.invokeFunction('convertToInteractive',\n",
              "                                                    [key], {});\n",
              "        if (!dataTable) return;\n",
              "\n",
              "        const docLinkHtml = 'Like what you see? Visit the ' +\n",
              "          '<a target=\"_blank\" href=https://colab.research.google.com/notebooks/data_table.ipynb>data table notebook</a>'\n",
              "          + ' to learn more about interactive tables.';\n",
              "        element.innerHTML = '';\n",
              "        dataTable['output_type'] = 'display_data';\n",
              "        await google.colab.output.renderOutput(dataTable, element);\n",
              "        const docLink = document.createElement('div');\n",
              "        docLink.innerHTML = docLinkHtml;\n",
              "        element.appendChild(docLink);\n",
              "      }\n",
              "    </script>\n",
              "  </div>\n",
              "\n",
              "\n",
              "<div id=\"df-6c2710cb-bb17-4488-85ed-d334a23a42a2\">\n",
              "  <button class=\"colab-df-quickchart\" onclick=\"quickchart('df-6c2710cb-bb17-4488-85ed-d334a23a42a2')\"\n",
              "            title=\"Suggest charts.\"\n",
              "            style=\"display:none;\">\n",
              "\n",
              "<svg xmlns=\"http://www.w3.org/2000/svg\" height=\"24px\"viewBox=\"0 0 24 24\"\n",
              "     width=\"24px\">\n",
              "    <g>\n",
              "        <path d=\"M19 3H5c-1.1 0-2 .9-2 2v14c0 1.1.9 2 2 2h14c1.1 0 2-.9 2-2V5c0-1.1-.9-2-2-2zM9 17H7v-7h2v7zm4 0h-2V7h2v10zm4 0h-2v-4h2v4z\"/>\n",
              "    </g>\n",
              "</svg>\n",
              "  </button>\n",
              "\n",
              "<style>\n",
              "  .colab-df-quickchart {\n",
              "      --bg-color: #E8F0FE;\n",
              "      --fill-color: #1967D2;\n",
              "      --hover-bg-color: #E2EBFA;\n",
              "      --hover-fill-color: #174EA6;\n",
              "      --disabled-fill-color: #AAA;\n",
              "      --disabled-bg-color: #DDD;\n",
              "  }\n",
              "\n",
              "  [theme=dark] .colab-df-quickchart {\n",
              "      --bg-color: #3B4455;\n",
              "      --fill-color: #D2E3FC;\n",
              "      --hover-bg-color: #434B5C;\n",
              "      --hover-fill-color: #FFFFFF;\n",
              "      --disabled-bg-color: #3B4455;\n",
              "      --disabled-fill-color: #666;\n",
              "  }\n",
              "\n",
              "  .colab-df-quickchart {\n",
              "    background-color: var(--bg-color);\n",
              "    border: none;\n",
              "    border-radius: 50%;\n",
              "    cursor: pointer;\n",
              "    display: none;\n",
              "    fill: var(--fill-color);\n",
              "    height: 32px;\n",
              "    padding: 0;\n",
              "    width: 32px;\n",
              "  }\n",
              "\n",
              "  .colab-df-quickchart:hover {\n",
              "    background-color: var(--hover-bg-color);\n",
              "    box-shadow: 0 1px 2px rgba(60, 64, 67, 0.3), 0 1px 3px 1px rgba(60, 64, 67, 0.15);\n",
              "    fill: var(--button-hover-fill-color);\n",
              "  }\n",
              "\n",
              "  .colab-df-quickchart-complete:disabled,\n",
              "  .colab-df-quickchart-complete:disabled:hover {\n",
              "    background-color: var(--disabled-bg-color);\n",
              "    fill: var(--disabled-fill-color);\n",
              "    box-shadow: none;\n",
              "  }\n",
              "\n",
              "  .colab-df-spinner {\n",
              "    border: 2px solid var(--fill-color);\n",
              "    border-color: transparent;\n",
              "    border-bottom-color: var(--fill-color);\n",
              "    animation:\n",
              "      spin 1s steps(1) infinite;\n",
              "  }\n",
              "\n",
              "  @keyframes spin {\n",
              "    0% {\n",
              "      border-color: transparent;\n",
              "      border-bottom-color: var(--fill-color);\n",
              "      border-left-color: var(--fill-color);\n",
              "    }\n",
              "    20% {\n",
              "      border-color: transparent;\n",
              "      border-left-color: var(--fill-color);\n",
              "      border-top-color: var(--fill-color);\n",
              "    }\n",
              "    30% {\n",
              "      border-color: transparent;\n",
              "      border-left-color: var(--fill-color);\n",
              "      border-top-color: var(--fill-color);\n",
              "      border-right-color: var(--fill-color);\n",
              "    }\n",
              "    40% {\n",
              "      border-color: transparent;\n",
              "      border-right-color: var(--fill-color);\n",
              "      border-top-color: var(--fill-color);\n",
              "    }\n",
              "    60% {\n",
              "      border-color: transparent;\n",
              "      border-right-color: var(--fill-color);\n",
              "    }\n",
              "    80% {\n",
              "      border-color: transparent;\n",
              "      border-right-color: var(--fill-color);\n",
              "      border-bottom-color: var(--fill-color);\n",
              "    }\n",
              "    90% {\n",
              "      border-color: transparent;\n",
              "      border-bottom-color: var(--fill-color);\n",
              "    }\n",
              "  }\n",
              "</style>\n",
              "\n",
              "  <script>\n",
              "    async function quickchart(key) {\n",
              "      const quickchartButtonEl =\n",
              "        document.querySelector('#' + key + ' button');\n",
              "      quickchartButtonEl.disabled = true;  // To prevent multiple clicks.\n",
              "      quickchartButtonEl.classList.add('colab-df-spinner');\n",
              "      try {\n",
              "        const charts = await google.colab.kernel.invokeFunction(\n",
              "            'suggestCharts', [key], {});\n",
              "      } catch (error) {\n",
              "        console.error('Error during call to suggestCharts:', error);\n",
              "      }\n",
              "      quickchartButtonEl.classList.remove('colab-df-spinner');\n",
              "      quickchartButtonEl.classList.add('colab-df-quickchart-complete');\n",
              "    }\n",
              "    (() => {\n",
              "      let quickchartButtonEl =\n",
              "        document.querySelector('#df-6c2710cb-bb17-4488-85ed-d334a23a42a2 button');\n",
              "      quickchartButtonEl.style.display =\n",
              "        google.colab.kernel.accessAllowed ? 'block' : 'none';\n",
              "    })();\n",
              "  </script>\n",
              "</div>\n",
              "    </div>\n",
              "  </div>\n"
            ]
          },
          "metadata": {},
          "execution_count": 30
        }
      ],
      "source": [
        "# Generating the xtest and ytest\n",
        "\n",
        "# Using the fifa players data for 2022\n",
        "df2=pd.read_csv(\"/content/drive/My Drive/AI/players_22.csv\")\n",
        "\n",
        "# Getting all the relevant data for my future prediction\n",
        "\n",
        "# Taking columns from high_correlations genreated from the player data 2021\n",
        "relevantDataSet2=df2[high_correlations.index]\n",
        "relevantDataSet2\n",
        "\n",
        "# Removing unrelated columns that do not directly affect players performance.\n",
        "# release_clause_eur: Is the amount of money paid by another club whcich is interested in another clubs' player\n",
        "relevantDataSet2.drop(['release_clause_eur'], axis=1, inplace=True)\n",
        "\n",
        "# Getting all columns with Nans\n",
        "relevantDataSet2.isnull().sum()\n",
        "uncleanData2=relevantDataSet2.loc[:,\"value_eur\":\"dribbling\"]\n",
        "uncleanData2\n",
        "\n",
        "# Using the simpleImputer to replace all Nans in the columns with their corresponding Medians\n",
        "imp2=SimpleImputer(strategy='median')\n",
        "a2=imp2.fit_transform(uncleanData2)\n",
        "sub_df2=pd.DataFrame(a2, columns=uncleanData2.columns)\n",
        "sub_df2.isnull().sum()\n",
        "\n",
        "# Dropping all the the Nans columns from the orginal column\n",
        "relevantDataSet2.drop(uncleanData2,axis=1,inplace=True)\n",
        "relevantDataSet2.shape\n",
        "\n",
        "# Create a new dataset with better information for the model\n",
        "relevantDataSet_update2=pd.concat([relevantDataSet2,sub_df2],axis=1)\n",
        "\n",
        "# Cross checking if it was successful\n",
        "relevantDataSet_update2.isnull().sum()\n",
        "\n",
        "\n",
        "# Finding scaler of the new dataset we have without overall\n",
        "scaled2=sc.fit_transform(relevantDataSet_update2.loc[:,\"potential\":])\n",
        "scaled2\n",
        "sub_set_data2=pd.DataFrame(scaled2,columns=relevantDataSet_update2.loc[:,\"potential\":].columns)\n",
        "sub_set_data2"
      ]
    },
    {
      "cell_type": "markdown",
      "source": [
        "*Defining our xtest and ytest for further prediction*"
      ],
      "metadata": {
        "id": "o7H98g06AKsI"
      }
    },
    {
      "cell_type": "code",
      "execution_count": null,
      "metadata": {
        "id": "D60BPD4F97FA"
      },
      "outputs": [],
      "source": [
        "xtest=sub_set_data2\n",
        "ytest=relevantDataSet_update2['overall']"
      ]
    },
    {
      "cell_type": "markdown",
      "source": [
        "Necessary importations to help in training and predictions"
      ],
      "metadata": {
        "id": "_3GFyuLxAVFs"
      }
    },
    {
      "cell_type": "code",
      "execution_count": null,
      "metadata": {
        "id": "P7nAGsGL-4Kx"
      },
      "outputs": [],
      "source": [
        "# Testing with just LinearRegression\n",
        "from sklearn.ensemble import VotingRegressor,RandomForestRegressor\n",
        "from sklearn.svm import SVR\n",
        "from sklearn.tree import DecisionTreeRegressor\n",
        "from xgboost import XGBRegressor\n",
        "from sklearn.metrics import r2_score,mean_squared_error,mean_absolute_error\n"
      ]
    },
    {
      "cell_type": "markdown",
      "source": [
        "Instantaition of our regressors to be used"
      ],
      "metadata": {
        "id": "_weZQ004AeGq"
      }
    },
    {
      "cell_type": "code",
      "source": [
        "random_forest = RandomForestRegressor()\n",
        "svr = SVR()\n",
        "xgb_model = XGBRegressor(base_score=0.5, booster='gblinear', n_estimators=100, learning_rate=0.1, random_state=42)\n",
        "decision_tree = DecisionTreeRegressor(max_depth=10)"
      ],
      "metadata": {
        "id": "PiGOqJ_783JE"
      },
      "execution_count": null,
      "outputs": []
    },
    {
      "cell_type": "markdown",
      "source": [
        "Structure of our model to be used in the VotingRegressor"
      ],
      "metadata": {
        "id": "0YOavaUpAo0l"
      }
    },
    {
      "cell_type": "code",
      "source": [
        "voting_regressor = VotingRegressor(estimators=[\n",
        "    ('random_forest', random_forest),\n",
        "    ('svr', svr),\n",
        "    ('xgb_model', xgb_model),\n",
        "    ('decision_tree',decision_tree)\n",
        "])\n"
      ],
      "metadata": {
        "id": "7z50cu_K8wCH"
      },
      "execution_count": null,
      "outputs": []
    },
    {
      "cell_type": "markdown",
      "source": [
        "Performing Fits, Predicitons and finding the Mean squared errors(MSE) and fine tunning my MSE for each regressors used"
      ],
      "metadata": {
        "id": "ryXMShcFAzcs"
      }
    },
    {
      "cell_type": "code",
      "execution_count": null,
      "metadata": {
        "colab": {
          "base_uri": "https://localhost:8080/"
        },
        "id": "A0sbDQKe-_On",
        "outputId": "65c99d15-d80b-4bf1-bc32-6bf3052b44b1"
      },
      "outputs": [
        {
          "output_type": "stream",
          "name": "stdout",
          "text": [
            "Using the RandomForestRegressor \n",
            " Mean Squared Error (MAE): 1.2832689276989446\n",
            " Mean Absolute Error (MAE): 0.65324029315453\n",
            " Prediction Accuracy: 97.29%\n",
            " \n",
            "Using the SVR \n",
            " Mean Squared Error (MAE): 3.6409576228988856\n",
            " Mean Absolute Error (MAE): 1.3102675145294964\n",
            " Prediction Accuracy: 92.31%\n",
            " \n",
            "Using the XGBRegressor \n",
            " Mean Squared Error (MAE): 7.3917323507420205\n",
            " Mean Absolute Error (MAE): 2.1037890465345432\n",
            " Prediction Accuracy: 84.38%\n",
            " \n",
            "Using the DecisionTreeRegressor \n",
            " Mean Squared Error (MAE): 2.339632299382556\n",
            " Mean Absolute Error (MAE): 0.9052762411337768\n",
            " Prediction Accuracy: 95.06%\n",
            " \n",
            "Using the VotingRegressor \n",
            " Mean Squared Error (MAE): 2.212257611274632\n",
            " Mean Absolute Error (MAE): 1.0608399800150439\n",
            " Prediction Accuracy: 95.33%\n",
            " \n"
          ]
        }
      ],
      "source": [
        "for clf in ( random_forest,svr,xgb_model,decision_tree, voting_regressor):\n",
        " clf.fit(x, y)\n",
        " y_pred = clf.predict(xtest) #Predict\n",
        " mse = mean_squared_error(ytest, y_pred)  # Calculate MSE\n",
        " mae = mean_absolute_error(ytest, y_pred) # Calculate MAE\n",
        " print(\"Using the\",clf.__class__.__name__,\"\\n Mean Squared Error (MAE):\", mse)\n",
        " print(\" Mean Absolute Error (MAE):\", mae)\n",
        " print(\" Prediction Accuracy:\",\"{:.2f}%\".format(100*r2_score(ytest, y_pred)))\n",
        " print(\" \")\n",
        "\n"
      ]
    },
    {
      "cell_type": "markdown",
      "source": [
        "Fine-tuned models"
      ],
      "metadata": {
        "id": "X1czuc54feEP"
      }
    },
    {
      "cell_type": "markdown",
      "source": [
        "Cross Validation testing"
      ],
      "metadata": {
        "id": "FGbxyGq3YaYm"
      }
    },
    {
      "cell_type": "code",
      "source": [
        "fine_tuned_random_forest = RandomForestRegressor(n_estimators=400, max_depth=100, max_features='auto', random_state=82)\n",
        "fine_tuned_svr = SVR(kernel='rbf', C=10, epsilon=0.1)\n",
        "fine_tuned_xgb_model = XGBRegressor(learning_rate=0.1, max_depth=10, n_estimators=200)\n",
        "fine_tuned_decision_tree = DecisionTreeRegressor(max_depth=200, min_samples_leaf=8)\n",
        "\n"
      ],
      "metadata": {
        "id": "BUQ1q29wfh7l"
      },
      "execution_count": null,
      "outputs": []
    },
    {
      "cell_type": "markdown",
      "source": [
        "Create a Voting Regressor again"
      ],
      "metadata": {
        "id": "ynRWfAkNfojG"
      }
    },
    {
      "cell_type": "code",
      "source": [
        "voting_regressor = VotingRegressor(estimators=[\n",
        "    ('random_forest', fine_tuned_random_forest),\n",
        "    ('svr', fine_tuned_svr),\n",
        "    ('xgb_model', fine_tuned_xgb_model),\n",
        "    ('decision_tree', fine_tuned_decision_tree)\n",
        "])"
      ],
      "metadata": {
        "id": "nQiu00_FfvlL"
      },
      "execution_count": null,
      "outputs": []
    },
    {
      "cell_type": "code",
      "source": [
        "for clf in ( fine_tuned_random_forest,fine_tuned_svr,fine_tuned_xgb_model,fine_tuned_decision_tree, voting_regressor):\n",
        " clf.fit(x, y)\n",
        " y_pred = clf.predict(xtest) #Predict\n",
        " mse = mean_squared_error(ytest, y_pred)  # Calculate MSE\n",
        " mae = mean_absolute_error(ytest, y_pred) # Calculate MAE\n",
        " print(\"Using the\",clf.__class__.__name__,\"\\n Mean Squared Error (MAE):\", mse)\n",
        " print(\" Mean Absolute Error (MAE):\", mae)\n",
        " print(\" Prediction Accuracy:\",\"{:.2f}%\".format(100*r2_score(ytest, y_pred)))\n",
        " print(\" \")"
      ],
      "metadata": {
        "colab": {
          "base_uri": "https://localhost:8080/"
        },
        "id": "EgAfHx5sf1jO",
        "outputId": "cfb6ecab-2eae-407d-a89d-86ff80d7bfdd"
      },
      "execution_count": null,
      "outputs": [
        {
          "output_type": "stream",
          "name": "stderr",
          "text": [
            "/usr/local/lib/python3.10/dist-packages/sklearn/ensemble/_forest.py:413: FutureWarning: `max_features='auto'` has been deprecated in 1.1 and will be removed in 1.3. To keep the past behaviour, explicitly set `max_features=1.0` or remove this parameter as it is also the default value for RandomForestRegressors and ExtraTreesRegressors.\n",
            "  warn(\n"
          ]
        },
        {
          "output_type": "stream",
          "name": "stdout",
          "text": [
            "Using the RandomForestRegressor \n",
            " Mean Squared Error (MAE): 1.2647307107308072\n",
            " Mean Absolute Error (MAE): 0.6476208482769374\n",
            " Prediction Accuracy: 97.33%\n",
            " \n",
            "Using the SVR \n",
            " Mean Squared Error (MAE): 2.38320985159118\n",
            " Mean Absolute Error (MAE): 1.0387333754386108\n",
            " Prediction Accuracy: 94.97%\n",
            " \n",
            "Using the XGBRegressor \n",
            " Mean Squared Error (MAE): 1.8000043549596485\n",
            " Mean Absolute Error (MAE): 0.8565509512008206\n",
            " Prediction Accuracy: 96.20%\n",
            " \n",
            "Using the DecisionTreeRegressor \n",
            " Mean Squared Error (MAE): 2.123256249067941\n",
            " Mean Absolute Error (MAE): 0.8223170288311409\n",
            " Prediction Accuracy: 95.51%\n",
            " \n"
          ]
        },
        {
          "output_type": "stream",
          "name": "stderr",
          "text": [
            "/usr/local/lib/python3.10/dist-packages/sklearn/ensemble/_forest.py:413: FutureWarning: `max_features='auto'` has been deprecated in 1.1 and will be removed in 1.3. To keep the past behaviour, explicitly set `max_features=1.0` or remove this parameter as it is also the default value for RandomForestRegressors and ExtraTreesRegressors.\n",
            "  warn(\n"
          ]
        },
        {
          "output_type": "stream",
          "name": "stdout",
          "text": [
            "Using the VotingRegressor \n",
            " Mean Squared Error (MAE): 1.4002436962998273\n",
            " Mean Absolute Error (MAE): 0.7419547926656018\n",
            " Prediction Accuracy: 97.04%\n",
            " \n"
          ]
        }
      ]
    },
    {
      "cell_type": "code",
      "source": [
        "def predict(potential,movement_reactions,power_shot_power,mentality_composure,value_eur,wage_eur,passing,dribbling):\n",
        "  data=[potential,movement_reactions,power_shot_power,mentality_composure,value_eur,wage_eur,passing,dribbling]\n",
        "  if all(not math.isnan(variable) for variable in data) & all(isinstance(variable, (int, float)) for variable in data):\n",
        "    scaled_data=sc.fit_transform([data])\n",
        "    return round(voting_regressor.predict(scaled_data),2)\n",
        "  return 'Check your inputs, there is a mistake in there'"
      ],
      "metadata": {
        "id": "aCy-2PI5f71P"
      },
      "execution_count": null,
      "outputs": []
    },
    {
      "cell_type": "markdown",
      "metadata": {
        "id": "IT18eFjsX49w"
      },
      "source": [
        "**Saving the trained model**"
      ]
    },
    {
      "cell_type": "code",
      "execution_count": null,
      "metadata": {
        "id": "lpxePxdUXxGX"
      },
      "outputs": [],
      "source": [
        "import pickle"
      ]
    },
    {
      "cell_type": "code",
      "execution_count": null,
      "metadata": {
        "id": "Vv9GUJleYW5o",
        "colab": {
          "base_uri": "https://localhost:8080/"
        },
        "outputId": "a7dc604e-ca69-4f19-9834-96c6506fba0c"
      },
      "outputs": [
        {
          "output_type": "stream",
          "name": "stdout",
          "text": [
            "Model saved as sport_model.sav\n"
          ]
        }
      ],
      "source": [
        "model_filename = \"sport_model.sav\"\n",
        "# Save the model to a file using pickle\n",
        "with open(model_filename, 'wb') as model_file:\n",
        "    pickle.dump(voting_regressor, model_file)\n",
        "\n",
        "print(f\"Model saved as {model_filename}\")\n"
      ]
    },
    {
      "cell_type": "markdown",
      "source": [
        "**For using the model**"
      ],
      "metadata": {
        "id": "7H5Eg73QpNdy"
      }
    },
    {
      "cell_type": "code",
      "execution_count": null,
      "metadata": {
        "id": "YUn30OLVZC1n",
        "colab": {
          "base_uri": "https://localhost:8080/",
          "height": 270
        },
        "outputId": "90d1290a-d594-472f-df9d-09e98423628e"
      },
      "outputs": [
        {
          "output_type": "error",
          "ename": "NameError",
          "evalue": "ignored",
          "traceback": [
            "\u001b[0;31m---------------------------------------------------------------------------\u001b[0m",
            "\u001b[0;31mNameError\u001b[0m                                 Traceback (most recent call last)",
            "\u001b[0;32m<ipython-input-96-df586b1b5579>\u001b[0m in \u001b[0;36m<cell line: 6>\u001b[0;34m()\u001b[0m\n\u001b[1;32m      4\u001b[0m \u001b[0;34m\u001b[0m\u001b[0m\n\u001b[1;32m      5\u001b[0m \u001b[0;31m# Now you can use 'loaded_model' for predictions\u001b[0m\u001b[0;34m\u001b[0m\u001b[0;34m\u001b[0m\u001b[0m\n\u001b[0;32m----> 6\u001b[0;31m \u001b[0mpredictions\u001b[0m \u001b[0;34m=\u001b[0m \u001b[0mloaded_model\u001b[0m\u001b[0;34m.\u001b[0m\u001b[0mpredict\u001b[0m\u001b[0;34m(\u001b[0m\u001b[0mscaled_data\u001b[0m\u001b[0;34m)\u001b[0m  \u001b[0;31m# Use your data for predictions\u001b[0m\u001b[0;34m\u001b[0m\u001b[0;34m\u001b[0m\u001b[0m\n\u001b[0m\u001b[1;32m      7\u001b[0m \u001b[0;34m\u001b[0m\u001b[0m\n\u001b[1;32m      8\u001b[0m \u001b[0mprint\u001b[0m\u001b[0;34m(\u001b[0m\u001b[0;34m\"Predicted values:\"\u001b[0m\u001b[0;34m,\u001b[0m \u001b[0mpredictions\u001b[0m\u001b[0;34m)\u001b[0m\u001b[0;34m\u001b[0m\u001b[0;34m\u001b[0m\u001b[0m\n",
            "\u001b[0;31mNameError\u001b[0m: name 'scaled_data' is not defined"
          ]
        }
      ],
      "source": [
        "# Load the model from the file using pickle\n",
        "with open(model_filename, 'rb') as model_file:\n",
        "    loaded_model = pickle.load(model_file)\n",
        "\n",
        "# Now you can use 'loaded_model' for predictions\n",
        "predictions = loaded_model.predict(scaled_data)  # Use your data for predictions\n",
        "\n",
        "print(\"Predicted values:\", predictions)"
      ]
    },
    {
      "cell_type": "code",
      "execution_count": null,
      "metadata": {
        "id": "sYVPq0E7bWeV"
      },
      "outputs": [],
      "source": []
    }
  ],
  "metadata": {
    "colab": {
      "provenance": [],
      "include_colab_link": true
    },
    "kernelspec": {
      "display_name": "Python 3",
      "name": "python3"
    },
    "language_info": {
      "name": "python"
    },
    "accelerator": "TPU"
  },
  "nbformat": 4,
  "nbformat_minor": 0
}